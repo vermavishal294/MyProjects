{
 "cells": [
  {
   "cell_type": "markdown",
   "id": "4a23b22d",
   "metadata": {},
   "source": [
    "# Data Preprocessing"
   ]
  },
  {
   "cell_type": "code",
   "execution_count": 3,
   "id": "087dbc94",
   "metadata": {},
   "outputs": [
    {
     "name": "stdout",
     "output_type": "stream",
     "text": [
      "   Unnamed: 0  Health Service Area  Hospital County  \\\n",
      "0           0                    4               14   \n",
      "1           1                    6               26   \n",
      "2           2                    8               15   \n",
      "3           3                    6               22   \n",
      "4           4                    3               27   \n",
      "\n",
      "   Operating Certificate Number  Facility Id  Facility Name  Age Group  \\\n",
      "0                     5957001.0        180.0             90          2   \n",
      "1                     7002017.0       1450.0             72          1   \n",
      "2                     1401005.0        210.0             46          5   \n",
      "3                     7002053.0       1304.0            108          5   \n",
      "4                     2701001.0        409.0             61          3   \n",
      "\n",
      "   Zip Code - 3 digits  Gender  Race  ...  APR Severity of Illness Code  \\\n",
      "0                   25       1     4  ...                             2   \n",
      "1                   12       2     3  ...                             3   \n",
      "2                   42       2     4  ...                             4   \n",
      "3                   12       1     4  ...                             1   \n",
      "4                   45       1     3  ...                             1   \n",
      "\n",
      "   APR Severity of Illness Description  APR Risk of Mortality  \\\n",
      "0                                    4                      3   \n",
      "1                                    2                      3   \n",
      "2                                    1                      1   \n",
      "3                                    3                      3   \n",
      "4                                    3                      3   \n",
      "\n",
      "   APR Medical Surgical Description  Payment Typology 1  Payment Typology 2  \\\n",
      "0                                 1                   5                   5   \n",
      "1                                 1                   1                   8   \n",
      "2                                 1                   6                   1   \n",
      "3                                 1                   6                   8   \n",
      "4                                 2                   1                   8   \n",
      "\n",
      "   Payment Typology 3  Birth Weight  Emergency Department Indicator  \\\n",
      "0                   5             0                               2   \n",
      "1                   8          3200                               1   \n",
      "2                   5             0                               2   \n",
      "3                   8             0                               2   \n",
      "4                   8             0                               1   \n",
      "\n",
      "   Total Costs  \n",
      "0      9650.35  \n",
      "1      3039.90  \n",
      "2     23975.82  \n",
      "3     23313.55  \n",
      "4      3577.78  \n",
      "\n",
      "[5 rows x 32 columns]\n"
     ]
    }
   ],
   "source": [
    "import pandas as pd\n",
    "from sklearn.model_selection import train_test_split\n",
    "from sklearn.preprocessing import StandardScaler\n",
    "\n",
    "# Load the dataset\n",
    "# For the purpose of this example, let's assume we have a dataset 'hospital_data.csv'\n",
    "# The dataset contains features like patient demographics, treatment details, and historical costs\n",
    "data = pd.read_csv('hospital_data.csv')\n",
    "\n",
    "# Display the first few rows of the dataset\n",
    "print(data.head())\n",
    "\n",
    "# Separate features and target variable\n",
    "X = data.drop(columns=['Total Costs'])  # Features\n",
    "y = data['Total Costs']  # Target variable (treatment cost)\n",
    "\n",
    "# Split the dataset into training and testing sets\n",
    "X_train, X_test, y_train, y_test = train_test_split(X, y, test_size=0.2, random_state=42)\n",
    "\n",
    "# Standardize the feature variables\n",
    "scaler = StandardScaler()\n",
    "X_train_scaled = scaler.fit_transform(X_train)\n",
    "X_test_scaled = scaler.transform(X_test)\n"
   ]
  },
  {
   "cell_type": "markdown",
   "id": "57fae916",
   "metadata": {},
   "source": [
    "# Model Training\n",
    "### Using a Random Forest Regressor:"
   ]
  },
  {
   "cell_type": "code",
   "execution_count": 4,
   "id": "b52e0793",
   "metadata": {},
   "outputs": [
    {
     "data": {
      "text/plain": [
       "RandomForestRegressor(n_estimators=10, random_state=42)"
      ]
     },
     "execution_count": 4,
     "metadata": {},
     "output_type": "execute_result"
    }
   ],
   "source": [
    "from sklearn.ensemble import RandomForestRegressor\n",
    "from sklearn.metrics import mean_absolute_error, mean_squared_error\n",
    "\n",
    "# Initialize the model\n",
    "rf_model = RandomForestRegressor(n_estimators=10, random_state=42)\n",
    "\n",
    "# Train the model\n",
    "rf_model.fit(X_train_scaled, y_train)\n",
    "\n",
    "\n",
    "\n",
    "\n"
   ]
  },
  {
   "cell_type": "markdown",
   "id": "4dd01ea2",
   "metadata": {},
   "source": [
    "# Make predictions"
   ]
  },
  {
   "cell_type": "code",
   "execution_count": 5,
   "id": "9ead9114",
   "metadata": {},
   "outputs": [],
   "source": [
    "y_pred = rf_model.predict(X_test_scaled)"
   ]
  },
  {
   "cell_type": "markdown",
   "id": "9f6218c7",
   "metadata": {},
   "source": [
    "# Evaluation"
   ]
  },
  {
   "cell_type": "code",
   "execution_count": 6,
   "id": "33177576",
   "metadata": {},
   "outputs": [
    {
     "name": "stdout",
     "output_type": "stream",
     "text": [
      "Mean Absolute Error: 3991.19724877551\n",
      "Mean Squared Error: 258266297.68683833\n"
     ]
    }
   ],
   "source": [
    "# Evaluate the model\n",
    "mae = mean_absolute_error(y_test, y_pred)\n",
    "mse = mean_squared_error(y_test, y_pred)\n",
    "print(f'Mean Absolute Error: {mae}')\n",
    "print(f'Mean Squared Error: {mse}')"
   ]
  },
  {
   "cell_type": "code",
   "execution_count": null,
   "id": "3cdfa2cf",
   "metadata": {},
   "outputs": [],
   "source": []
  }
 ],
 "metadata": {
  "kernelspec": {
   "display_name": "Python 3 (ipykernel)",
   "language": "python",
   "name": "python3"
  },
  "language_info": {
   "codemirror_mode": {
    "name": "ipython",
    "version": 3
   },
   "file_extension": ".py",
   "mimetype": "text/x-python",
   "name": "python",
   "nbconvert_exporter": "python",
   "pygments_lexer": "ipython3",
   "version": "3.7.9"
  }
 },
 "nbformat": 4,
 "nbformat_minor": 5
}
